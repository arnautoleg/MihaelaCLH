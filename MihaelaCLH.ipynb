{
  "nbformat": 4,
  "nbformat_minor": 0,
  "metadata": {
    "colab": {
      "provenance": [],
      "authorship_tag": "ABX9TyOrXRHP/6hcVGv2f+MDfCxf",
      "include_colab_link": true
    },
    "kernelspec": {
      "name": "python3",
      "display_name": "Python 3"
    },
    "language_info": {
      "name": "python"
    }
  },
  "cells": [
    {
      "cell_type": "markdown",
      "metadata": {
        "id": "view-in-github",
        "colab_type": "text"
      },
      "source": [
        "<a href=\"https://colab.research.google.com/github/arnautoleg/MihaelaCLH/blob/main/MihaelaCLH.ipynb\" target=\"_parent\"><img src=\"https://colab.research.google.com/assets/colab-badge.svg\" alt=\"Open In Colab\"/></a>"
      ]
    },
    {
      "cell_type": "code",
      "execution_count": 1,
      "metadata": {
        "id": "M32N9fsiKEr3"
      },
      "outputs": [],
      "source": [
        "import pandas as pd\n"
      ]
    },
    {
      "cell_type": "code",
      "source": [
        "url = \"https://github.com/arnautoleg/Dana_Cernev/raw/main/teza%20master%20statistica%20(2)%20(1).xls\"\n",
        "df=pd.read_excel(url, sheet_name=2)\n",
        "\n",
        "df['incidence'] = round(df['cazuri noi']/df['copii pinala 15 ani']*100000, 2)\n",
        "\n",
        "df"
      ],
      "metadata": {
        "id": "BqsKHsh9KKrS"
      },
      "execution_count": null,
      "outputs": []
    }
  ]
}